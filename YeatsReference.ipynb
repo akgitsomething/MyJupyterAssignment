{
 "cells": [
  {
   "cell_type": "markdown",
   "id": "f4e4f28e-a7ff-4781-bf13-379f1126894b",
   "metadata": {},
   "source": [
    "# My Jupyter Notebook on IBM Watson Studio"
   ]
  },
  {
   "cell_type": "markdown",
   "id": "73a44d62-e1c6-4d76-b9dc-4d34f57d1ceb",
   "metadata": {},
   "source": [
    "**Aaron Kelly**\n",
    "Data Analyst"
   ]
  },
  {
   "cell_type": "markdown",
   "id": "4f94c189-7472-4e95-99f2-85da35d2326a",
   "metadata": {},
   "source": [
    "*I am interested in data science because data suffuses every part of modern life. We cannot escape this hell we have created, so we must embrace it as the demons we have made of ourselves.*"
   ]
  },
  {
   "cell_type": "markdown",
   "id": "c20e48cb-9f12-4b1f-831d-0cde2d3bb1d1",
   "metadata": {},
   "source": [
    "### The following code is a cry for help"
   ]
  },
  {
   "cell_type": "code",
   "execution_count": 1,
   "id": "cc082150-6ad4-4fda-bb61-a9be5c479141",
   "metadata": {},
   "outputs": [
    {
     "name": "stdout",
     "output_type": "stream",
     "text": [
      "Help!\n",
      "Help!\n",
      "Help!\n",
      "Help!\n",
      "Help!\n",
      "Help!\n",
      "Help!\n",
      "Help!\n",
      "Help!\n",
      "Help!\n",
      "Help!\n"
     ]
    }
   ],
   "source": [
    "x=0\n",
    "while x<11:\n",
    "    print(\"Help!\")\n",
    "    x+=1"
   ]
  },
  {
   "cell_type": "markdown",
   "id": "40c6890a-7354-4b27-8609-600245c04f50",
   "metadata": {},
   "source": [
    "`\"Turning and turning in the widening gyre.\"`\n",
    "***\n",
    "* \"The falcon cannot hear the falconer;\"\n",
    "* \"Things fall apart;\"\n",
    "* \"The centre cannot hold;\""
   ]
  }
 ],
 "metadata": {
  "kernelspec": {
   "display_name": "Python",
   "language": "python",
   "name": "conda-env-python-py"
  },
  "language_info": {
   "codemirror_mode": {
    "name": "ipython",
    "version": 3
   },
   "file_extension": ".py",
   "mimetype": "text/x-python",
   "name": "python",
   "nbconvert_exporter": "python",
   "pygments_lexer": "ipython3",
   "version": "3.7.12"
  }
 },
 "nbformat": 4,
 "nbformat_minor": 5
}
